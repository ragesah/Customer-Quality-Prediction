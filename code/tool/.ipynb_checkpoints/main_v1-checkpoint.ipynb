{
 "cells": [
  {
   "cell_type": "code",
   "execution_count": 1,
   "id": "6516adec",
   "metadata": {},
   "outputs": [],
   "source": [
    "import sys\n",
    "sys.path.append('../')\n",
    "\n",
    "from util.package import *\n",
    "from util.preprocess import *\n",
    "from dataset.dataset import Dataset\n",
    "from dataset.eda import EDA\n",
    "from model.model import Model"
   ]
  },
  {
   "cell_type": "markdown",
   "id": "61ab858a",
   "metadata": {},
   "source": [
    "#### Load dataset"
   ]
  },
  {
   "cell_type": "code",
   "execution_count": 2,
   "id": "5ab3667e",
   "metadata": {},
   "outputs": [
    {
     "name": "stdout",
     "output_type": "stream",
     "text": [
      "#rows = 8238; #columns = 24\n",
      "#rows = 32950; #columns = 22\n"
     ]
    }
   ],
   "source": [
    "training_data = Dataset('../dataset', False)\n",
    "test_data = Dataset('../dataset', False)\n",
    "\n",
    "train_set = training_data.read_trainset()\n",
    "test_set = test_data.read_testset()\n",
    "\n",
    "EDA = EDA(None)\n",
    "train_nrow, train_ncols = EDA.get_size(train_set)\n",
    "test_nrow, test_ncols = EDA.get_size(test_set)"
   ]
  },
  {
   "cell_type": "markdown",
   "id": "41ae8940",
   "metadata": {},
   "source": [
    "### Exploratory Data Analysis\n",
    "#### Univariate Analysis \n",
    "\n",
    "- Univariate analysis is used to check data quality, missing values, data range for each of the significate features.\n",
    "\n",
    "    - Missing values Handling\n",
    "    - Categorical features encoding\n",
    "    - Outliers removal\n",
    "    - Data normalisation"
   ]
  },
  {
   "cell_type": "markdown",
   "id": "cef769fc",
   "metadata": {},
   "source": [
    "##### Missing values Handling or Imputation"
   ]
  },
  {
   "cell_type": "code",
   "execution_count": 3,
   "id": "a57c5ec0",
   "metadata": {},
   "outputs": [
    {
     "name": "stdout",
     "output_type": "stream",
     "text": [
      "Training Set\n"
     ]
    },
    {
     "data": {
      "text/html": [
       "<div>\n",
       "<style scoped>\n",
       "    .dataframe tbody tr th:only-of-type {\n",
       "        vertical-align: middle;\n",
       "    }\n",
       "\n",
       "    .dataframe tbody tr th {\n",
       "        vertical-align: top;\n",
       "    }\n",
       "\n",
       "    .dataframe thead th {\n",
       "        text-align: right;\n",
       "    }\n",
       "</style>\n",
       "<table border=\"1\" class=\"dataframe\">\n",
       "  <thead>\n",
       "    <tr style=\"text-align: right;\">\n",
       "      <th></th>\n",
       "      <th>count</th>\n",
       "      <th>%age</th>\n",
       "    </tr>\n",
       "  </thead>\n",
       "  <tbody>\n",
       "    <tr>\n",
       "      <th>custAge</th>\n",
       "      <td>2014</td>\n",
       "      <td>24.447681</td>\n",
       "    </tr>\n",
       "    <tr>\n",
       "      <th>schooling</th>\n",
       "      <td>2406</td>\n",
       "      <td>29.206118</td>\n",
       "    </tr>\n",
       "    <tr>\n",
       "      <th>day_of_week</th>\n",
       "      <td>787</td>\n",
       "      <td>9.553290</td>\n",
       "    </tr>\n",
       "  </tbody>\n",
       "</table>\n",
       "</div>"
      ],
      "text/plain": [
       "             count       %age\n",
       "custAge       2014  24.447681\n",
       "schooling     2406  29.206118\n",
       "day_of_week    787   9.553290"
      ]
     },
     "metadata": {},
     "output_type": "display_data"
    },
    {
     "name": "stdout",
     "output_type": "stream",
     "text": [
      "Test Set\n"
     ]
    },
    {
     "data": {
      "text/html": [
       "<div>\n",
       "<style scoped>\n",
       "    .dataframe tbody tr th:only-of-type {\n",
       "        vertical-align: middle;\n",
       "    }\n",
       "\n",
       "    .dataframe tbody tr th {\n",
       "        vertical-align: top;\n",
       "    }\n",
       "\n",
       "    .dataframe thead th {\n",
       "        text-align: right;\n",
       "    }\n",
       "</style>\n",
       "<table border=\"1\" class=\"dataframe\">\n",
       "  <thead>\n",
       "    <tr style=\"text-align: right;\">\n",
       "      <th></th>\n",
       "      <th>count</th>\n",
       "      <th>%age</th>\n",
       "    </tr>\n",
       "  </thead>\n",
       "  <tbody>\n",
       "    <tr>\n",
       "      <th>custAge</th>\n",
       "      <td>8042</td>\n",
       "      <td>24.406677</td>\n",
       "    </tr>\n",
       "    <tr>\n",
       "      <th>schooling</th>\n",
       "      <td>9770</td>\n",
       "      <td>29.650986</td>\n",
       "    </tr>\n",
       "    <tr>\n",
       "      <th>day_of_week</th>\n",
       "      <td>3328</td>\n",
       "      <td>10.100152</td>\n",
       "    </tr>\n",
       "  </tbody>\n",
       "</table>\n",
       "</div>"
      ],
      "text/plain": [
       "             count       %age\n",
       "custAge       8042  24.406677\n",
       "schooling     9770  29.650986\n",
       "day_of_week   3328  10.100152"
      ]
     },
     "metadata": {},
     "output_type": "display_data"
    }
   ],
   "source": [
    "### Deleteing following columns as these do not represent data of interes; [id and profit]\n",
    "train_set = EDA.delete_columns(train_set, ['id', 'profit'])\n",
    "test_set = EDA.delete_columns(test_set, ['id'])\n",
    "\n",
    "print('Training Set')\n",
    "EDA.null_stats(train_set)\n",
    "print('Test Set')\n",
    "EDA.null_stats(test_set)\n",
    "\n",
    "numerical_cols, categorical_cols = EDA.column_types(train_set)\n",
    "# display(numerical_cols)\n",
    "# display(categorical_cols)\n",
    "\n",
    "##### Columns 'custAge' had 24% data missing, Schooling 29% missing data and, days_of_week 9.5% missing data in the traning sets.\n",
    "#### Test set also do have missing data in the following columns."
   ]
  },
  {
   "cell_type": "code",
   "execution_count": 4,
   "id": "833362a9",
   "metadata": {},
   "outputs": [
    {
     "data": {
      "image/png": "[encoded data removed]",
      "text/plain": [
       "<Figure size 432x288 with 1 Axes>"
      ]
     },
     "metadata": {
      "needs_background": "light"
     },
     "output_type": "display_data"
    }
   ],
   "source": [
    "## 'responded' variable distribution\n",
    "sns.countplot(train_set.responded).set_title('Responded Distribution')\n",
    "plt.show()\n",
    "\n",
    "# train_set[train_set.responded == 1].shape[0]/train_nrow*100\n",
    "## ~11% of the customers responded to the campiagn positively; 89% of the customers did not respond."
   ]
  },
  {
   "cell_type": "code",
   "execution_count": 5,
   "id": "6171a617",
   "metadata": {},
   "outputs": [
    {
     "name": "stdout",
     "output_type": "stream",
     "text": [
      "39.95372750642674\n",
      "nan\n"
     ]
    },
    {
     "data": {
      "image/png": "[encoded data removed]",
      "text/plain": [
       "<Figure size 432x288 with 1 Axes>"
      ]
     },
     "metadata": {
      "needs_background": "light"
     },
     "output_type": "display_data"
    },
    {
     "name": "stdout",
     "output_type": "stream",
     "text": [
      "1.8329691672736101\n",
      "no     56.953642\n",
      "yes    43.046358\n",
      "Name: responded, dtype: float64\n",
      "no     89.840277\n",
      "yes    10.159723\n",
      "Name: responded, dtype: float64\n"
     ]
    }
   ],
   "source": [
    "# 'custAge' missing values imputation\n",
    "train_set[train_set.custAge.isnull()]['responded'].value_counts()/len(train_set[train_set.custAge.isnull()])*100\n",
    "train_set[~train_set.custAge.isnull()]['custAge'].mean()\n",
    "\n",
    "print(train_set[((~train_set.custAge.isnull()) & train_set.responded == 1)]['custAge'].mean())\n",
    "print(train_set[((~train_set.custAge.isnull()) & train_set.responded == 0)]['custAge'].mean())\n",
    "\n",
    "# sns.histplot(train_set.custAge)\n",
    "# plt.show()\n",
    "\n",
    "sns.boxplot(train_set.custAge)\n",
    "plt.show()\n",
    "\n",
    "# median weight below 40\n",
    "print(train_set[train_set.custAge > 60].shape[0]/len(train_set)*100) # only 1% dataset above 60 years\n",
    "print(train_set[train_set.custAge > 60]['responded'].value_counts()/len(train_set[train_set.custAge > 60])*100) # no distrinction may or may not respond\n",
    "print(train_set[train_set.custAge <= 60]['responded'].value_counts()/len(train_set[train_set.custAge <= 60])*100)\n",
    "\n",
    "# fill missing values with average which seems to be most appropriate\n",
    "train_set.custAge.fillna(39, inplace = True)\n",
    "test_set.custAge.fillna(39, inplace = True)"
   ]
  },
  {
   "cell_type": "code",
   "execution_count": 6,
   "id": "b5fa7133",
   "metadata": {
    "scrolled": true
   },
   "outputs": [],
   "source": [
    "# 'schooling' missing values imputation\n",
    "# sns.countplot(train_set.schooling).set_title('schooling')\n",
    "# plt.xticks(rotation = 30)\n",
    "# plt.show()\n",
    "\n",
    "### Ideally, schooling should not have any impact on one call out to a insurance company. Hence, removing this information\n",
    "# from the dataset or can be encoded using One-Hot-Encoding technique (OHE)."
   ]
  },
  {
   "cell_type": "code",
   "execution_count": 7,
   "id": "0c344933",
   "metadata": {},
   "outputs": [
    {
     "data": {
      "text/plain": [
       "day_of_week  responded\n",
       "fri          no           14.639476\n",
       "             yes           1.978636\n",
       "mon          no           17.552804\n",
       "             yes           1.845108\n",
       "thu          no           16.363195\n",
       "             yes           2.245691\n",
       "tue          no           15.816946\n",
       "             yes           2.124302\n",
       "wed          no           15.974751\n",
       "             yes           1.905802\n",
       "Name: responded, dtype: float64"
      ]
     },
     "execution_count": 7,
     "metadata": {},
     "output_type": "execute_result"
    }
   ],
   "source": [
    "# 'day_of_week' missing values imputation\n",
    "train_set.groupby(['day_of_week'])['responded'].value_counts()/train_nrow*100\n",
    "\n",
    "### day_of_week of week do not show any strong correlation with responded variable, hence it can be dropped"
   ]
  },
  {
   "cell_type": "code",
   "execution_count": 8,
   "id": "5c0ae387",
   "metadata": {
    "scrolled": true
   },
   "outputs": [
    {
     "data": {
      "text/html": [
       "<div>\n",
       "<style scoped>\n",
       "    .dataframe tbody tr th:only-of-type {\n",
       "        vertical-align: middle;\n",
       "    }\n",
       "\n",
       "    .dataframe tbody tr th {\n",
       "        vertical-align: top;\n",
       "    }\n",
       "\n",
       "    .dataframe thead th {\n",
       "        text-align: right;\n",
       "    }\n",
       "</style>\n",
       "<table border=\"1\" class=\"dataframe\">\n",
       "  <thead>\n",
       "    <tr style=\"text-align: right;\">\n",
       "      <th></th>\n",
       "      <th>custAge</th>\n",
       "      <th>campaign</th>\n",
       "      <th>pdays</th>\n",
       "      <th>previous</th>\n",
       "      <th>emp.var.rate</th>\n",
       "      <th>cons.price.idx</th>\n",
       "      <th>cons.conf.idx</th>\n",
       "      <th>euribor3m</th>\n",
       "      <th>nr.employed</th>\n",
       "      <th>pmonths</th>\n",
       "      <th>pastEmail</th>\n",
       "    </tr>\n",
       "  </thead>\n",
       "  <tbody>\n",
       "    <tr>\n",
       "      <th>count</th>\n",
       "      <td>8238.000000</td>\n",
       "      <td>8238.000000</td>\n",
       "      <td>8238.000000</td>\n",
       "      <td>8238.000000</td>\n",
       "      <td>8238.000000</td>\n",
       "      <td>8238.000000</td>\n",
       "      <td>8238.000000</td>\n",
       "      <td>8238.000000</td>\n",
       "      <td>8238.000000</td>\n",
       "      <td>8238.000000</td>\n",
       "      <td>8238.000000</td>\n",
       "    </tr>\n",
       "    <tr>\n",
       "      <th>mean</th>\n",
       "      <td>39.720563</td>\n",
       "      <td>2.531682</td>\n",
       "      <td>960.916606</td>\n",
       "      <td>0.183054</td>\n",
       "      <td>0.056397</td>\n",
       "      <td>93.570977</td>\n",
       "      <td>-40.577907</td>\n",
       "      <td>3.586929</td>\n",
       "      <td>5165.575965</td>\n",
       "      <td>960.687436</td>\n",
       "      <td>0.365501</td>\n",
       "    </tr>\n",
       "    <tr>\n",
       "      <th>std</th>\n",
       "      <td>9.170890</td>\n",
       "      <td>2.709773</td>\n",
       "      <td>190.695054</td>\n",
       "      <td>0.514209</td>\n",
       "      <td>1.566550</td>\n",
       "      <td>0.578782</td>\n",
       "      <td>4.650101</td>\n",
       "      <td>1.742784</td>\n",
       "      <td>72.727423</td>\n",
       "      <td>191.841012</td>\n",
       "      <td>1.294101</td>\n",
       "    </tr>\n",
       "    <tr>\n",
       "      <th>min</th>\n",
       "      <td>18.000000</td>\n",
       "      <td>1.000000</td>\n",
       "      <td>0.000000</td>\n",
       "      <td>0.000000</td>\n",
       "      <td>-3.400000</td>\n",
       "      <td>92.201000</td>\n",
       "      <td>-50.800000</td>\n",
       "      <td>0.634000</td>\n",
       "      <td>4963.600000</td>\n",
       "      <td>0.000000</td>\n",
       "      <td>0.000000</td>\n",
       "    </tr>\n",
       "    <tr>\n",
       "      <th>25%</th>\n",
       "      <td>34.000000</td>\n",
       "      <td>1.000000</td>\n",
       "      <td>999.000000</td>\n",
       "      <td>0.000000</td>\n",
       "      <td>-1.800000</td>\n",
       "      <td>93.075000</td>\n",
       "      <td>-42.700000</td>\n",
       "      <td>1.334000</td>\n",
       "      <td>5099.100000</td>\n",
       "      <td>999.000000</td>\n",
       "      <td>0.000000</td>\n",
       "    </tr>\n",
       "    <tr>\n",
       "      <th>50%</th>\n",
       "      <td>39.000000</td>\n",
       "      <td>2.000000</td>\n",
       "      <td>999.000000</td>\n",
       "      <td>0.000000</td>\n",
       "      <td>1.100000</td>\n",
       "      <td>93.444000</td>\n",
       "      <td>-41.800000</td>\n",
       "      <td>4.857000</td>\n",
       "      <td>5191.000000</td>\n",
       "      <td>999.000000</td>\n",
       "      <td>0.000000</td>\n",
       "    </tr>\n",
       "    <tr>\n",
       "      <th>75%</th>\n",
       "      <td>44.000000</td>\n",
       "      <td>3.000000</td>\n",
       "      <td>999.000000</td>\n",
       "      <td>0.000000</td>\n",
       "      <td>1.400000</td>\n",
       "      <td>93.994000</td>\n",
       "      <td>-36.400000</td>\n",
       "      <td>4.961000</td>\n",
       "      <td>5228.100000</td>\n",
       "      <td>999.000000</td>\n",
       "      <td>0.000000</td>\n",
       "    </tr>\n",
       "    <tr>\n",
       "      <th>max</th>\n",
       "      <td>94.000000</td>\n",
       "      <td>40.000000</td>\n",
       "      <td>999.000000</td>\n",
       "      <td>6.000000</td>\n",
       "      <td>1.400000</td>\n",
       "      <td>94.767000</td>\n",
       "      <td>-26.900000</td>\n",
       "      <td>5.045000</td>\n",
       "      <td>5228.100000</td>\n",
       "      <td>999.000000</td>\n",
       "      <td>25.000000</td>\n",
       "    </tr>\n",
       "  </tbody>\n",
       "</table>\n",
       "</div>"
      ],
      "text/plain": [
       "           custAge     campaign        pdays     previous  emp.var.rate  \\\n",
       "count  8238.000000  8238.000000  8238.000000  8238.000000   8238.000000   \n",
       "mean     39.720563     2.531682   960.916606     0.183054      0.056397   \n",
       "std       9.170890     2.709773   190.695054     0.514209      1.566550   \n",
       "min      18.000000     1.000000     0.000000     0.000000     -3.400000   \n",
       "25%      34.000000     1.000000   999.000000     0.000000     -1.800000   \n",
       "50%      39.000000     2.000000   999.000000     0.000000      1.100000   \n",
       "75%      44.000000     3.000000   999.000000     0.000000      1.400000   \n",
       "max      94.000000    40.000000   999.000000     6.000000      1.400000   \n",
       "\n",
       "       cons.price.idx  cons.conf.idx    euribor3m  nr.employed      pmonths  \\\n",
       "count     8238.000000    8238.000000  8238.000000  8238.000000  8238.000000   \n",
       "mean        93.570977     -40.577907     3.586929  5165.575965   960.687436   \n",
       "std          0.578782       4.650101     1.742784    72.727423   191.841012   \n",
       "min         92.201000     -50.800000     0.634000  4963.600000     0.000000   \n",
       "25%         93.075000     -42.700000     1.334000  5099.100000   999.000000   \n",
       "50%         93.444000     -41.800000     4.857000  5191.000000   999.000000   \n",
       "75%         93.994000     -36.400000     4.961000  5228.100000   999.000000   \n",
       "max         94.767000     -26.900000     5.045000  5228.100000   999.000000   \n",
       "\n",
       "         pastEmail  \n",
       "count  8238.000000  \n",
       "mean      0.365501  \n",
       "std       1.294101  \n",
       "min       0.000000  \n",
       "25%       0.000000  \n",
       "50%       0.000000  \n",
       "75%       0.000000  \n",
       "max      25.000000  "
      ]
     },
     "execution_count": 8,
     "metadata": {},
     "output_type": "execute_result"
    }
   ],
   "source": [
    "train_set.describe()"
   ]
  },
  {
   "cell_type": "markdown",
   "id": "4d045906",
   "metadata": {},
   "source": [
    "#####  Encoding of categorical variables"
   ]
  },
  {
   "cell_type": "code",
   "execution_count": 9,
   "id": "0ea7fc72",
   "metadata": {},
   "outputs": [
    {
     "name": "stdout",
     "output_type": "stream",
     "text": [
      "Train Set-> unique count by column\n",
      "profession -> 12\n",
      "marital -> 4\n",
      "schooling -> 8\n",
      "default -> 3\n",
      "housing -> 3\n",
      "loan -> 3\n",
      "contact -> 2\n",
      "month -> 10\n",
      "day_of_week -> 5\n",
      "poutcome -> 3\n",
      "responded -> 2\n",
      "\n",
      "Test Set-> unique count by Column\n",
      "profession -> 12\n",
      "marital -> 4\n",
      "schooling -> 8\n",
      "default -> 3\n",
      "housing -> 3\n",
      "loan -> 3\n",
      "contact -> 2\n",
      "month -> 10\n",
      "day_of_week -> 5\n",
      "poutcome -> 3\n"
     ]
    }
   ],
   "source": [
    "print('Train Set-> unique count by column')\n",
    "EDA.unique_values(train_set,categorical_cols)\n",
    "print('\\nTest Set-> unique count by Column')\n",
    "EDA.unique_values(test_set, categorical_cols)\n",
    "\n",
    "## following variables are categrorical, profession has 12 highest distinct categories and contact has least distinct categories."
   ]
  },
  {
   "cell_type": "code",
   "execution_count": 10,
   "id": "1591009e",
   "metadata": {},
   "outputs": [
    {
     "data": {
      "image/png": "[encoded data removed]",
      "text/plain": [
       "<Figure size 1440x1152 with 12 Axes>"
      ]
     },
     "metadata": {
      "needs_background": "light"
     },
     "output_type": "display_data"
    }
   ],
   "source": [
    "fig, ax = plt.subplots(4,3, figsize = (20,16))\n",
    "fontsize = 10\n",
    "k = 0\n",
    "for i in range(4):\n",
    "    for j in range(3):\n",
    "        try:\n",
    "            sns.countplot(train_set[categorical_cols[k]], ax = ax[i,j], data = test_set)\n",
    "            if categorical_cols[k] in ['profession', 'schooling']:\n",
    "                for tick in ax[i,j].get_xticklabels():\n",
    "                        tick.set_rotation(45)\n",
    "            ax[i,j].set_title(categorical_cols[k], fontsize=fontsize)\n",
    "            k+=1\n",
    "        except:\n",
    "            ax[i,j].set_visible(False)\n",
    "            pass\n",
    "plt.tight_layout()\n",
    "save_plot(path='../figures', name='train_catplot')"
   ]
  },
  {
   "cell_type": "markdown",
   "id": "86598f3d",
   "metadata": {},
   "source": [
    "- more admin and, blue-collar and technician responded than other, giving more weightage to these three"
   ]
  },
  {
   "cell_type": "markdown",
   "id": "3900e54b",
   "metadata": {},
   "source": [
    "#### Bivariate Analysis"
   ]
  },
  {
   "cell_type": "code",
   "execution_count": 11,
   "id": "ab1067d1",
   "metadata": {},
   "outputs": [
    {
     "data": {
      "image/png": "[encoded data removed]",
      "text/plain": [
       "<Figure size 720x432 with 2 Axes>"
      ]
     },
     "metadata": {
      "needs_background": "light"
     },
     "output_type": "display_data"
    }
   ],
   "source": [
    "plt.figure(figsize = (10,6))\n",
    "sns.heatmap(train_set[numerical_cols].corr())\n",
    "plt.show()"
   ]
  },
  {
   "cell_type": "markdown",
   "id": "4643b4e7",
   "metadata": {},
   "source": [
    "- 'pdays' and 'pmonths' are strongly correlated; deleting either of them to avoid correlation"
   ]
  },
  {
   "cell_type": "markdown",
   "id": "abd56d5a",
   "metadata": {},
   "source": [
    "##### Feature Engineering"
   ]
  },
  {
   "cell_type": "code",
   "execution_count": 12,
   "id": "9ac3784d",
   "metadata": {},
   "outputs": [],
   "source": [
    "## derive feature\n",
    "columns = ['pmonths',]\n",
    "train_set = EDA.derive_features(train_set, columns)\n",
    "test_set = EDA.derive_features(test_set, columns)"
   ]
  },
  {
   "cell_type": "markdown",
   "id": "68449dcf",
   "metadata": {},
   "source": [
    "- 'pmonths' is tansformed in binary form"
   ]
  },
  {
   "cell_type": "code",
   "execution_count": 13,
   "id": "6af717ff",
   "metadata": {},
   "outputs": [],
   "source": [
    "## Encode the columns -> text to numeric form\n",
    "columns = ['responded','profession','marital','default','housing','loan','contact','poutcome']\n",
    "train_set = EDA.transform(train_set, columns)\n",
    "test_set = EDA.transform(test_set, columns)"
   ]
  },
  {
   "cell_type": "code",
   "execution_count": null,
   "id": "c56956e5",
   "metadata": {},
   "outputs": [],
   "source": []
  },
  {
   "cell_type": "code",
   "execution_count": null,
   "id": "c8f76ab2",
   "metadata": {},
   "outputs": [],
   "source": []
  },
  {
   "cell_type": "markdown",
   "id": "a5756cf8",
   "metadata": {},
   "source": [
    "### relationship of month with responded"
   ]
  },
  {
   "cell_type": "code",
   "execution_count": 14,
   "id": "71a94127",
   "metadata": {},
   "outputs": [],
   "source": [
    "# # train_set.groupby(['month'])['responded'].sum()\n",
    "# # month is incomplete data. Given the year along with month would make more sense to undertand if a customer contact duration has any relation with responded.\n",
    "# # hence dropping this column\n",
    "\n",
    "# ### delete id and profit columns\n",
    "col = ['month', 'day_of_week','schooling']\n",
    "train_set = EDA.delete_columns(train_set, col)\n",
    "test_set = EDA.delete_columns(test_set, col)\n",
    "# numerical_cols, categorical_cols = EDA.column_types(train_set)"
   ]
  },
  {
   "cell_type": "code",
   "execution_count": 15,
   "id": "e60b87d6",
   "metadata": {},
   "outputs": [],
   "source": [
    "# train_set['profession'].unique() # label encoding\n",
    "# train_set.groupby(['profession'])['responded'].sum()\n",
    "# # missing values for schooling, custAge, day_of_week\n",
    "\n",
    "# # more admin and, blue-collar and technician responded than other, giving more weightage to these three\n"
   ]
  },
  {
   "cell_type": "code",
   "execution_count": 16,
   "id": "b8fda9a1",
   "metadata": {
    "scrolled": true
   },
   "outputs": [],
   "source": [
    "# train_set['marital'].unique() # label encoding\n",
    "# train_set.groupby(['marital'])['responded'].sum()\n",
    "# # missing values for schooling, custAge, day_of_week\n",
    "\n",
    "# # more admin and, blue-collar and technician responded than other, giving more weightage to these three\n",
    "# # sns.countplot(train_set['marital'])"
   ]
  },
  {
   "cell_type": "code",
   "execution_count": 17,
   "id": "b09bc75e",
   "metadata": {},
   "outputs": [],
   "source": [
    "# import scipy.stats as stats\n",
    "# # stats f_oneway functions takes the groups as input and returns ANOVA F and p value\n",
    "# fvalue, pvalue = stats.f_oneway(train_set['marital'], train_set['responded'])\n",
    "# print(fvalue, pvalue)\n",
    "# # 18220.37402263535 0.0\n",
    "# ## yes, relationship hence label encoding"
   ]
  },
  {
   "cell_type": "code",
   "execution_count": 18,
   "id": "55d46794",
   "metadata": {
    "scrolled": true
   },
   "outputs": [],
   "source": [
    "# dropping day_of_week\n",
    "# sns.countplot(train_set['default']) # unknown small component mode encoding"
   ]
  },
  {
   "cell_type": "code",
   "execution_count": 19,
   "id": "b3a44de5",
   "metadata": {
    "scrolled": true
   },
   "outputs": [],
   "source": [
    "# sns.countplot(train_set['housing'])"
   ]
  },
  {
   "cell_type": "code",
   "execution_count": 20,
   "id": "8adff916",
   "metadata": {},
   "outputs": [],
   "source": [
    "# sns.countplot(train_set['loan'])"
   ]
  },
  {
   "cell_type": "code",
   "execution_count": 21,
   "id": "cbe16b16",
   "metadata": {
    "scrolled": true
   },
   "outputs": [],
   "source": [
    "# sns.countplot(train_set.contact) # does not matter oOHE"
   ]
  },
  {
   "cell_type": "code",
   "execution_count": 22,
   "id": "45de5f50",
   "metadata": {},
   "outputs": [],
   "source": [
    "# sns.countplot(train_set['poutcome']) # important"
   ]
  },
  {
   "cell_type": "code",
   "execution_count": 23,
   "id": "8996ed79",
   "metadata": {},
   "outputs": [],
   "source": [
    "# train_set.groupby(['poutcome'])['responded'].value_counts()/len(train_set)*100\n",
    "\n",
    "## if previous success convergence rate is high"
   ]
  },
  {
   "cell_type": "code",
   "execution_count": 24,
   "id": "25b5ab71",
   "metadata": {
    "scrolled": false
   },
   "outputs": [],
   "source": [
    "# train_set[categorical_cols]"
   ]
  },
  {
   "cell_type": "code",
   "execution_count": 25,
   "id": "4bbd6781",
   "metadata": {},
   "outputs": [
    {
     "data": {
      "text/plain": [
       "((316, 19), (7922, 19))"
      ]
     },
     "execution_count": 25,
     "metadata": {},
     "output_type": "execute_result"
    }
   ],
   "source": [
    "train_set[train_set.pdays != 999].shape, train_set[train_set.pdays == 999].shape\n",
    "\n",
    "## maximum were not contracted previously"
   ]
  },
  {
   "cell_type": "code",
   "execution_count": 26,
   "id": "b7418c98",
   "metadata": {},
   "outputs": [
    {
     "data": {
      "text/plain": [
       "array([ 3, 16,  6, 15,  9, 19,  5,  4, 12,  1,  0, 11,  8, 10,  7,  2, 17,\n",
       "       14, 13, 25, 21, 22], dtype=int64)"
      ]
     },
     "execution_count": 26,
     "metadata": {},
     "output_type": "execute_result"
    }
   ],
   "source": [
    "train_set[train_set.pdays != 999]['pdays'].unique()"
   ]
  },
  {
   "cell_type": "code",
   "execution_count": 27,
   "id": "75d49dbe",
   "metadata": {
    "scrolled": true
   },
   "outputs": [
    {
     "data": {
      "text/plain": [
       "1    205\n",
       "0    111\n",
       "Name: responded, dtype: int64"
      ]
     },
     "execution_count": 27,
     "metadata": {},
     "output_type": "execute_result"
    }
   ],
   "source": [
    "train_set[train_set.pdays != 999]['responded'].value_counts()"
   ]
  },
  {
   "cell_type": "code",
   "execution_count": 28,
   "id": "badfc15d",
   "metadata": {},
   "outputs": [
    {
     "data": {
      "text/plain": [
       "220      3\n",
       "223     16\n",
       "251      6\n",
       "254     15\n",
       "387      9\n",
       "        ..\n",
       "8217     6\n",
       "8225     3\n",
       "8229     6\n",
       "8230     2\n",
       "8233     7\n",
       "Name: pdays, Length: 316, dtype: int64"
      ]
     },
     "execution_count": 28,
     "metadata": {},
     "output_type": "execute_result"
    }
   ],
   "source": [
    "train_set[train_set.pdays != 999]['pdays']\n",
    "# plt.plot()"
   ]
  },
  {
   "cell_type": "code",
   "execution_count": 29,
   "id": "87549370",
   "metadata": {},
   "outputs": [
    {
     "data": {
      "text/plain": [
       "0    7199\n",
       "1     723\n",
       "Name: responded, dtype: int64"
      ]
     },
     "execution_count": 29,
     "metadata": {},
     "output_type": "execute_result"
    }
   ],
   "source": [
    "train_set[train_set.pdays == 999]['responded'].value_counts()"
   ]
  },
  {
   "cell_type": "code",
   "execution_count": 30,
   "id": "d7addf76",
   "metadata": {},
   "outputs": [],
   "source": [
    "# plt.hist(train_set[train_set.pdays != 999])\n",
    "# plt.show()"
   ]
  },
  {
   "cell_type": "code",
   "execution_count": 31,
   "id": "1fe23152",
   "metadata": {},
   "outputs": [
    {
     "data": {
      "text/html": [
       "<div>\n",
       "<style scoped>\n",
       "    .dataframe tbody tr th:only-of-type {\n",
       "        vertical-align: middle;\n",
       "    }\n",
       "\n",
       "    .dataframe tbody tr th {\n",
       "        vertical-align: top;\n",
       "    }\n",
       "\n",
       "    .dataframe thead th {\n",
       "        text-align: right;\n",
       "    }\n",
       "</style>\n",
       "<table border=\"1\" class=\"dataframe\">\n",
       "  <thead>\n",
       "    <tr style=\"text-align: right;\">\n",
       "      <th></th>\n",
       "      <th>custAge</th>\n",
       "      <th>profession</th>\n",
       "      <th>marital</th>\n",
       "      <th>default</th>\n",
       "      <th>housing</th>\n",
       "      <th>loan</th>\n",
       "      <th>contact</th>\n",
       "      <th>campaign</th>\n",
       "      <th>pdays</th>\n",
       "      <th>previous</th>\n",
       "      <th>poutcome</th>\n",
       "      <th>emp.var.rate</th>\n",
       "      <th>cons.price.idx</th>\n",
       "      <th>cons.conf.idx</th>\n",
       "      <th>euribor3m</th>\n",
       "      <th>nr.employed</th>\n",
       "      <th>pastEmail</th>\n",
       "      <th>responded</th>\n",
       "      <th>prev_contracted</th>\n",
       "    </tr>\n",
       "  </thead>\n",
       "  <tbody>\n",
       "  </tbody>\n",
       "</table>\n",
       "</div>"
      ],
      "text/plain": [
       "Empty DataFrame\n",
       "Columns: [custAge, profession, marital, default, housing, loan, contact, campaign, pdays, previous, poutcome, emp.var.rate, cons.price.idx, cons.conf.idx, euribor3m, nr.employed, pastEmail, responded, prev_contracted]\n",
       "Index: []"
      ]
     },
     "execution_count": 31,
     "metadata": {},
     "output_type": "execute_result"
    }
   ],
   "source": [
    "train_set[train_set.custAge.isnull()]"
   ]
  },
  {
   "cell_type": "code",
   "execution_count": 32,
   "id": "b4d428d0",
   "metadata": {},
   "outputs": [
    {
     "data": {
      "text/plain": [
       "Series([], Name: responded, dtype: float64)"
      ]
     },
     "execution_count": 32,
     "metadata": {},
     "output_type": "execute_result"
    }
   ],
   "source": [
    "train_set[train_set.custAge.isnull()]['responded'].value_counts()/len(train_set[train_set.custAge.isnull()])*100"
   ]
  },
  {
   "cell_type": "code",
   "execution_count": 33,
   "id": "a2cd60dd",
   "metadata": {},
   "outputs": [
    {
     "data": {
      "text/plain": [
       "39.72056324350571"
      ]
     },
     "execution_count": 33,
     "metadata": {},
     "output_type": "execute_result"
    }
   ],
   "source": [
    "train_set[~train_set.custAge.isnull()]['custAge'].mean()"
   ]
  },
  {
   "cell_type": "code",
   "execution_count": 34,
   "id": "c5fa6d5a",
   "metadata": {
    "scrolled": true
   },
   "outputs": [
    {
     "name": "stdout",
     "output_type": "stream",
     "text": [
      "40.375\n",
      "39.637482900136796\n"
     ]
    }
   ],
   "source": [
    "print(train_set[((~train_set.custAge.isnull()) & train_set.responded == 1)]['custAge'].mean())\n",
    "print(train_set[((~train_set.custAge.isnull()) & train_set.responded == 0)]['custAge'].mean())"
   ]
  },
  {
   "cell_type": "code",
   "execution_count": 35,
   "id": "318469b1",
   "metadata": {},
   "outputs": [],
   "source": [
    "# train_set.custAge.fillna(39, inplace = True)\n",
    "# test_set.custAge.fillna(39, inplace = True)"
   ]
  },
  {
   "cell_type": "code",
   "execution_count": 36,
   "id": "d09cafdf",
   "metadata": {},
   "outputs": [],
   "source": [
    "# sns.histplot(train_set.custAge)\n",
    "# plt.show()"
   ]
  },
  {
   "cell_type": "code",
   "execution_count": 37,
   "id": "3fb3e0b3",
   "metadata": {},
   "outputs": [],
   "source": [
    "# sns.boxplot(train_set.custAge)\n",
    "# plt.show()\n",
    "\n",
    "# # median weight below 40\n",
    "# print(train_set[train_set.custAge > 60].shape[0]/len(train_set)*100) # only 1% dataset above 60 years\n",
    "# print(train_set[train_set.custAge > 60]['responded'].value_counts()/len(train_set[train_set.custAge > 60])*100) # no distrinction may or may not respond\n",
    "# print(train_set[train_set.custAge <= 60]['responded'].value_counts()/len(train_set[train_set.custAge <= 60])*100)"
   ]
  },
  {
   "cell_type": "code",
   "execution_count": 38,
   "id": "dc078fd9",
   "metadata": {},
   "outputs": [],
   "source": [
    "# sns.countplot(train_set.responded)"
   ]
  },
  {
   "cell_type": "code",
   "execution_count": 39,
   "id": "4d2e6229",
   "metadata": {
    "scrolled": true
   },
   "outputs": [],
   "source": [
    "# sns.countplot(train_set.schooling)"
   ]
  },
  {
   "cell_type": "code",
   "execution_count": 40,
   "id": "a432ec9b",
   "metadata": {
    "scrolled": true
   },
   "outputs": [],
   "source": [
    "# train_set.groupby(['schooling'])['responded'].value_counts()/len(train_set)*100\n",
    "\n",
    "## if previous success convergence rate is high"
   ]
  },
  {
   "cell_type": "code",
   "execution_count": 41,
   "id": "8e1c68d7",
   "metadata": {},
   "outputs": [],
   "source": [
    "# train_set.groupby(['responded'])['schooling'].value_counts()/len(train_set)*100\n",
    "\n",
    "## if previous success convergence rate is high   # no distrinctio"
   ]
  },
  {
   "cell_type": "code",
   "execution_count": 42,
   "id": "c5861742",
   "metadata": {},
   "outputs": [],
   "source": [
    "# train_set[train_set.schooling.isnull()]"
   ]
  },
  {
   "cell_type": "code",
   "execution_count": 43,
   "id": "9b743eb0",
   "metadata": {
    "scrolled": true
   },
   "outputs": [],
   "source": [
    "\n",
    "# train_set.schooling\n"
   ]
  },
  {
   "cell_type": "code",
   "execution_count": 44,
   "id": "a8d82c3b",
   "metadata": {},
   "outputs": [],
   "source": [
    "# for col in categorical_cols:\n",
    "#     print('{} -> {}'.format(col,test_set[col].nunique() ))"
   ]
  },
  {
   "cell_type": "code",
   "execution_count": 45,
   "id": "3c4df210",
   "metadata": {},
   "outputs": [],
   "source": [
    "# train_set[numerical_cols]"
   ]
  },
  {
   "cell_type": "code",
   "execution_count": 46,
   "id": "b8ce9a15",
   "metadata": {},
   "outputs": [],
   "source": [
    "# many categorical variable (none linear forms) hence, random forest"
   ]
  },
  {
   "cell_type": "code",
   "execution_count": 47,
   "id": "c8a9bc76",
   "metadata": {},
   "outputs": [],
   "source": [
    "# test_set.head()"
   ]
  },
  {
   "cell_type": "code",
   "execution_count": 48,
   "id": "65688c9f",
   "metadata": {},
   "outputs": [],
   "source": [
    "# from sklearn.ensemble import RandomForestClassifier\n",
    "# from sklearn.linear_model import LogisticRegression\n",
    "# from model.model import Model"
   ]
  },
  {
   "cell_type": "markdown",
   "id": "34228aaa",
   "metadata": {},
   "source": [
    "### Modeling\n",
    "\n",
    "##### Model Training and Evaluation"
   ]
  },
  {
   "cell_type": "code",
   "execution_count": 49,
   "id": "e21be827",
   "metadata": {},
   "outputs": [],
   "source": [
    "X = train_set[FEATURES]\n",
    "y = train_set[TARGET]"
   ]
  },
  {
   "cell_type": "code",
   "execution_count": 50,
   "id": "3ca8adda",
   "metadata": {
    "scrolled": true
   },
   "outputs": [
    {
     "name": "stdout",
     "output_type": "stream",
     "text": [
      "Train Size: (5766, 18)\n",
      "Validation Size: (2472, 18)\n",
      "Precision = 66.97%; Recall = 26.26%\n"
     ]
    }
   ],
   "source": [
    "# split dataset into training and validation sets\n",
    "X_train, X_val, y_train, y_val,scaler = split_dataset(X,y,test_size=0.3,scaler=True)\n",
    "\n",
    "# Model - Logistic Regression\n",
    "lr_model = Model(X_train, y_train, X_val, y_val, \"L\" )\n",
    "lr_model.train()\n",
    "lr_model.predict(X_val)\n",
    "metrics = lr_model.evaluate()\n",
    "unfold_metrics(metrics)"
   ]
  },
  {
   "cell_type": "code",
   "execution_count": 51,
   "id": "1306016a",
   "metadata": {
    "scrolled": true
   },
   "outputs": [
    {
     "name": "stdout",
     "output_type": "stream",
     "text": [
      "Train Size: (5766, 18)\n",
      "Validation Size: (2472, 18)\n",
      "Precision = 57.56%; Recall = 35.61%\n"
     ]
    }
   ],
   "source": [
    "# split dataset into training and validation sets\n",
    "X_train, X_val, y_train, y_val = split_dataset(X,y,test_size=0.3)\n",
    "\n",
    "# Model - Random Forest Classifier\n",
    "rf_model = Model(X_train, y_train, X_val, y_val )\n",
    "rf_model.train()\n",
    "rf_model.predict(X_val)\n",
    "metrics = rf_model.evaluate()\n",
    "unfold_metrics(metrics)"
   ]
  },
  {
   "cell_type": "code",
   "execution_count": 52,
   "id": "b9ae4f10",
   "metadata": {},
   "outputs": [],
   "source": [
    "## choosing best model\n",
    "best_model = rf_model"
   ]
  },
  {
   "cell_type": "markdown",
   "id": "d95a45f7",
   "metadata": {},
   "source": [
    "##### Prediction"
   ]
  },
  {
   "cell_type": "code",
   "execution_count": 53,
   "id": "0f7a93b8",
   "metadata": {},
   "outputs": [
    {
     "name": "stdout",
     "output_type": "stream",
     "text": [
      "(32950, 18)\n"
     ]
    }
   ],
   "source": [
    "print(test_set.shape)\n",
    "test_set['responded'] = best_model.predict(test_set)"
   ]
  },
  {
   "cell_type": "code",
   "execution_count": 54,
   "id": "3a369d74",
   "metadata": {},
   "outputs": [],
   "source": [
    "# X_train, X_val, y_train, y_val = train_test_split(X, y , test_size=test_size, stratify=y, random_state=42)\n",
    "# print('Train Size: {}'.format(X_train.shape))\n",
    "# print('Val Size: {}'.format(X_val.shape))\n",
    "# y_val.value_counts()"
   ]
  },
  {
   "cell_type": "code",
   "execution_count": 55,
   "id": "20be63f0",
   "metadata": {},
   "outputs": [],
   "source": [
    "# lr_model = Model(X_train, y_train, X_val, y_val, \"L\" )\n",
    "# lr_model.train()\n",
    "# lr_model.predict(X_val)\n",
    "# lr_model.evaluate()\n",
    "\n",
    "# (0.6811594202898551,\n",
    "#  0.16906474820143885,\n",
    "#  array([[2172,   22],\n",
    "#         [ 231,   47]], dtype=int64))"
   ]
  },
  {
   "cell_type": "code",
   "execution_count": 56,
   "id": "945edec5",
   "metadata": {},
   "outputs": [],
   "source": [
    "# from sklearn.ensemble import RandomForestClassifier\n",
    "# from sklearn.preprocessing import StandardScaler\n",
    "# scaler = Scaler().fit(X,y)\n",
    "# X = scaler.transform(X)\n",
    "\n",
    "# X_train, X_val, y_train, y_val = train_test_split(X, y , test_size=test_size, stratify=y, random_state=42)\n",
    "# print('Train Size: {}'.format(X_train.shape))\n",
    "# print('Val Size: {}'.format(X_val.shape))\n",
    "# y_val.value_counts()\n",
    "\n",
    "# scaler = Scaler().fit(X_train,y_train)\n",
    "# X_train = scaler.transform(X_train)\n",
    "# X_val = scaler.transform(X_val)\n",
    "\n",
    "# rf_model = Model(X_train, y_train, X_val, y_val )\n",
    "# rf_model.train()\n",
    "# rf_model.predict(X_val)\n",
    "# rf_model.evaluate()\n"
   ]
  },
  {
   "cell_type": "code",
   "execution_count": 57,
   "id": "2f0868d4",
   "metadata": {},
   "outputs": [],
   "source": [
    "# lr_model = Model(X_train, y_train, X_val, y_val, \"L\" )\n",
    "# lr_model.train()\n",
    "# lr_model.predict(X_val)\n",
    "# lr_model.evaluate()"
   ]
  },
  {
   "cell_type": "code",
   "execution_count": 58,
   "id": "e38a5163",
   "metadata": {},
   "outputs": [],
   "source": [
    "# rf_model.feature_importances_"
   ]
  },
  {
   "cell_type": "code",
   "execution_count": 59,
   "id": "a4f836b8",
   "metadata": {},
   "outputs": [],
   "source": [
    "# rf_model.cross_val_score()"
   ]
  },
  {
   "cell_type": "code",
   "execution_count": 60,
   "id": "3e355bf3",
   "metadata": {},
   "outputs": [],
   "source": [
    "# from sklearn.model_selection import cross_val_score"
   ]
  },
  {
   "cell_type": "code",
   "execution_count": 61,
   "id": "719e0a86",
   "metadata": {},
   "outputs": [],
   "source": [
    "# from sklearn.metrics import SCORERS"
   ]
  },
  {
   "cell_type": "code",
   "execution_count": 62,
   "id": "68fdd46c",
   "metadata": {},
   "outputs": [],
   "source": [
    "# SCORERS.keys()"
   ]
  },
  {
   "cell_type": "code",
   "execution_count": null,
   "id": "d2e75f20",
   "metadata": {},
   "outputs": [],
   "source": []
  }
 ],
 "metadata": {
  "kernelspec": {
   "display_name": "Python 3",
   "language": "python",
   "name": "python3"
  },
  "language_info": {
   "codemirror_mode": {
    "name": "ipython",
    "version": 3
   },
   "file_extension": ".py",
   "mimetype": "text/x-python",
   "name": "python",
   "nbconvert_exporter": "python",
   "pygments_lexer": "ipython3",
   "version": "3.8.8"
  }
 },
 "nbformat": 4,
 "nbformat_minor": 5
}
